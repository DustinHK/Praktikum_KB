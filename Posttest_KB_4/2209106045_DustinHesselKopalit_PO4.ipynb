{
 "cells": [
  {
   "cell_type": "markdown",
   "metadata": {},
   "source": [
    "#### Memasukan Library Pandas agar dapat membaca file csv atau data"
   ]
  },
  {
   "cell_type": "markdown",
   "metadata": {},
   "source": [
    "#### Memasukan Library numpy untuk operasi matematika yang efisien."
   ]
  },
  {
   "cell_type": "code",
   "execution_count": 245,
   "metadata": {},
   "outputs": [],
   "source": [
    "import pandas as pd\n",
    "import numpy as np"
   ]
  },
  {
   "cell_type": "markdown",
   "metadata": {},
   "source": [
    "#### Untuk Membaca Dataset"
   ]
  },
  {
   "cell_type": "code",
   "execution_count": 246,
   "metadata": {},
   "outputs": [],
   "source": [
    "df = pd.read_csv(\"Car_Insurance_Claim.csv\")"
   ]
  },
  {
   "cell_type": "markdown",
   "metadata": {},
   "source": [
    "#### 1. Bagi dataset menjadi training set dan testing set dengan proporsi 70:30"
   ]
  },
  {
   "cell_type": "markdown",
   "metadata": {},
   "source": [
    "Merupakan bagian dari pustaka Scikit-Learn yang berfokus pada alat-alat untuk pembelajaran mesin (machine learning). "
   ]
  },
  {
   "cell_type": "markdown",
   "metadata": {},
   "source": [
    " Ini adalah pernyataan yang mengimpor fungsi train_test_split dari modul model_selection dalam pustaka Scikit-Learn."
   ]
  },
  {
   "cell_type": "code",
   "execution_count": 247,
   "metadata": {},
   "outputs": [],
   "source": [
    "from sklearn.model_selection import train_test_split"
   ]
  },
  {
   "cell_type": "markdown",
   "metadata": {},
   "source": [
    "x = df.iloc[:,:18].values: Untuk Mengambil nilai-nilai dari 1 sampai kolom 18 dalam dataset"
   ]
  },
  {
   "cell_type": "markdown",
   "metadata": {},
   "source": [
    "y = df.iloc[:,-1].values: Ini adalah langkah untuk mengambil nilai-nilai dari kolom terakhir dalam dataset"
   ]
  },
  {
   "cell_type": "code",
   "execution_count": 248,
   "metadata": {},
   "outputs": [],
   "source": [
    "x = df.iloc[:,:18].values\n",
    "y = df.iloc[:,-1].values"
   ]
  },
  {
   "cell_type": "markdown",
   "metadata": {},
   "source": [
    "30% dari data akan digunakan sebagai dataset pengujian, sementara 70% akan digunakan sebagai dataset pelatihan."
   ]
  },
  {
   "cell_type": "code",
   "execution_count": 249,
   "metadata": {},
   "outputs": [],
   "source": [
    "x_train, x_test, y_train, y_test = train_test_split(x,y,test_size=0.3, random_state=0) "
   ]
  },
  {
   "cell_type": "markdown",
   "metadata": {},
   "source": [
    "Menampilkan ukuran Dari train dan test x dan y"
   ]
  },
  {
   "cell_type": "code",
   "execution_count": 250,
   "metadata": {},
   "outputs": [
    {
     "name": "stdout",
     "output_type": "stream",
     "text": [
      "Ukuran training set (x_train): (7000, 18)\n",
      "Ukuran testing set (x_test): (3000, 18)\n",
      "Ukuran training set (y_train): (7000,)\n",
      "Ukuran testing set (y_test): (3000,)\n"
     ]
    }
   ],
   "source": [
    "print(\"Ukuran training set (x_train):\", x_train.shape)\n",
    "print(\"Ukuran testing set (x_test):\", x_test.shape)\n",
    "print(\"Ukuran training set (y_train):\", y_train.shape)\n",
    "print(\"Ukuran testing set (y_test):\", y_test.shape)"
   ]
  },
  {
   "cell_type": "markdown",
   "metadata": {},
   "source": [
    "#### 2. Lakukan normalisasi data pada salah satu attribute menggunakan Min Max scaler"
   ]
  },
  {
   "cell_type": "markdown",
   "metadata": {},
   "source": [
    "mengimport modul MinMaxScaler dari pustaka Scikit-Learn (sklearn) digunakan untuk melakukan normalisasi data."
   ]
  },
  {
   "cell_type": "code",
   "execution_count": 251,
   "metadata": {},
   "outputs": [],
   "source": [
    "from sklearn.preprocessing import MinMaxScaler"
   ]
  },
  {
   "cell_type": "markdown",
   "metadata": {},
   "source": [
    "membuat copy pada dataset dan membuat variabel hanya berisi Kolom CREDIT_SCORE"
   ]
  },
  {
   "cell_type": "code",
   "execution_count": 252,
   "metadata": {},
   "outputs": [],
   "source": [
    "df2 = df.copy()\n",
    "df3 = df2[['CREDIT_SCORE']]"
   ]
  },
  {
   "cell_type": "markdown",
   "metadata": {},
   "source": [
    "scaler, agar dapat menggunakannya untuk melakukan normalisasi pada data. dalam proses normalisasi data menggunakan Min-Max scaling."
   ]
  },
  {
   "cell_type": "code",
   "execution_count": 253,
   "metadata": {},
   "outputs": [],
   "source": [
    "scaler = MinMaxScaler()"
   ]
  },
  {
   "cell_type": "markdown",
   "metadata": {},
   "source": [
    "melakukan normalisasi pada DataFrame df3 dengan menggunakan objek scaler yang sebelumnya telah dibuat \n",
    "dan menyimpannya dalam variabel n "
   ]
  },
  {
   "cell_type": "code",
   "execution_count": 254,
   "metadata": {},
   "outputs": [],
   "source": [
    "n = scaler.fit_transform(df3)"
   ]
  },
  {
   "cell_type": "markdown",
   "metadata": {},
   "source": [
    "\n",
    "print(np.nanmax(n)) pernyataan untuk mencetak nilai maksimum dari array n menggunakan fungsi np.nanmax(). dan menampilkan atribut yang telah di normalisas "
   ]
  },
  {
   "cell_type": "code",
   "execution_count": 255,
   "metadata": {},
   "outputs": [
    {
     "name": "stdout",
     "output_type": "stream",
     "text": [
      "1.0000000000000002\n",
      "[[0.63437392]\n",
      " [0.33544084]\n",
      " [0.48463582]\n",
      " ...\n",
      " [0.46016584]\n",
      " [0.34252397]\n",
      " [0.42080829]]\n"
     ]
    }
   ],
   "source": [
    "print(np.nanmax(n))\n",
    "print(n)"
   ]
  },
  {
   "cell_type": "markdown",
   "metadata": {},
   "source": [
    "#### 3. Lakukan standarisasi pada dataset\n"
   ]
  },
  {
   "cell_type": "markdown",
   "metadata": {},
   "source": [
    "mengimpor modul StandardScaler dari pustaka Scikit-Learn (sklearn)."
   ]
  },
  {
   "cell_type": "markdown",
   "metadata": {},
   "source": [
    "digunakan dalam pra-pemrosesan data dalam analisis data dan  untuk melakukan standardisasi data"
   ]
  },
  {
   "cell_type": "code",
   "execution_count": 256,
   "metadata": {},
   "outputs": [],
   "source": [
    "from sklearn.preprocessing import StandardScaler"
   ]
  },
  {
   "cell_type": "markdown",
   "metadata": {},
   "source": [
    "membuat copy dari dataset dan emnyimpanya pada df4 dan menyiman setiap atribut numerik kedalam datastan"
   ]
  },
  {
   "cell_type": "code",
   "execution_count": 257,
   "metadata": {},
   "outputs": [],
   "source": [
    "df4 = df.copy()\n",
    "datastan = [\"ID\",\"CREDIT_SCORE\",\"VEHICLE_OWNERSHIP\",\"MARRIED\",\"CHILDREN\", \"POSTAL_CODE\", \"ANNUAL_MILEAGE\",\"SPEEDING_VIOLATIONS\",\"DUIS\",\"PAST_ACCIDENTS\"]"
   ]
  },
  {
   "cell_type": "markdown",
   "metadata": {},
   "source": [
    "ss yang menggunakan StandardScaler() dari pustaka Scikit-Learn (sklearn). proses standardisasi data menggunakan teknik Standard Scaling."
   ]
  },
  {
   "cell_type": "code",
   "execution_count": 258,
   "metadata": {},
   "outputs": [],
   "source": [
    "ss = StandardScaler()"
   ]
  },
  {
   "cell_type": "markdown",
   "metadata": {},
   "source": [
    "untuk melakukan standardisasi pada kolom-kolom tertentu dalam DataFrame df4."
   ]
  },
  {
   "cell_type": "code",
   "execution_count": 259,
   "metadata": {},
   "outputs": [],
   "source": [
    "df4[datastan] = ss.fit_transform(df4[datastan])"
   ]
  },
  {
   "cell_type": "markdown",
   "metadata": {},
   "source": [
    "Kode np.std(df4[datastan]) digunakan untuk menghitung deviasi standar dari data dalam kolom-kolom yang telah distandardisasi (kolom-kolom dalam DataFrame df4 yang terdapat dalam datastan)"
   ]
  },
  {
   "cell_type": "code",
   "execution_count": 260,
   "metadata": {},
   "outputs": [
    {
     "name": "stderr",
     "output_type": "stream",
     "text": [
      "c:\\Users\\HP\\AppData\\Local\\Programs\\Python\\Python310\\lib\\site-packages\\numpy\\core\\fromnumeric.py:3571: FutureWarning: The behavior of DataFrame.std with axis=None is deprecated, in a future version this will reduce over both axes and return a scalar. To retain the old behavior, pass axis=0 (or do not pass axis)\n",
      "  return std(axis=axis, dtype=dtype, out=out, ddof=ddof, **kwargs)\n"
     ]
    },
    {
     "data": {
      "text/plain": [
       "ID                     1.0\n",
       "CREDIT_SCORE           1.0\n",
       "VEHICLE_OWNERSHIP      1.0\n",
       "MARRIED                1.0\n",
       "CHILDREN               1.0\n",
       "POSTAL_CODE            1.0\n",
       "ANNUAL_MILEAGE         1.0\n",
       "SPEEDING_VIOLATIONS    1.0\n",
       "DUIS                   1.0\n",
       "PAST_ACCIDENTS         1.0\n",
       "dtype: float64"
      ]
     },
     "execution_count": 260,
     "metadata": {},
     "output_type": "execute_result"
    }
   ],
   "source": [
    "np.std(df4[datastan])"
   ]
  },
  {
   "cell_type": "markdown",
   "metadata": {},
   "source": [
    "Setelah di standarisasi"
   ]
  },
  {
   "cell_type": "code",
   "execution_count": 261,
   "metadata": {},
   "outputs": [
    {
     "data": {
      "text/html": [
       "<div>\n",
       "<style scoped>\n",
       "    .dataframe tbody tr th:only-of-type {\n",
       "        vertical-align: middle;\n",
       "    }\n",
       "\n",
       "    .dataframe tbody tr th {\n",
       "        vertical-align: top;\n",
       "    }\n",
       "\n",
       "    .dataframe thead th {\n",
       "        text-align: right;\n",
       "    }\n",
       "</style>\n",
       "<table border=\"1\" class=\"dataframe\">\n",
       "  <thead>\n",
       "    <tr style=\"text-align: right;\">\n",
       "      <th></th>\n",
       "      <th>ID</th>\n",
       "      <th>AGE</th>\n",
       "      <th>GENDER</th>\n",
       "      <th>RACE</th>\n",
       "      <th>DRIVING_EXPERIENCE</th>\n",
       "      <th>EDUCATION</th>\n",
       "      <th>INCOME</th>\n",
       "      <th>CREDIT_SCORE</th>\n",
       "      <th>VEHICLE_OWNERSHIP</th>\n",
       "      <th>VEHICLE_YEAR</th>\n",
       "      <th>MARRIED</th>\n",
       "      <th>CHILDREN</th>\n",
       "      <th>POSTAL_CODE</th>\n",
       "      <th>ANNUAL_MILEAGE</th>\n",
       "      <th>VEHICLE_TYPE</th>\n",
       "      <th>SPEEDING_VIOLATIONS</th>\n",
       "      <th>DUIS</th>\n",
       "      <th>PAST_ACCIDENTS</th>\n",
       "      <th>OUTCOME</th>\n",
       "    </tr>\n",
       "  </thead>\n",
       "  <tbody>\n",
       "    <tr>\n",
       "      <th>0</th>\n",
       "      <td>0.237911</td>\n",
       "      <td>65+</td>\n",
       "      <td>female</td>\n",
       "      <td>majority</td>\n",
       "      <td>0-9y</td>\n",
       "      <td>high school</td>\n",
       "      <td>upper class</td>\n",
       "      <td>0.822299</td>\n",
       "      <td>0.659333</td>\n",
       "      <td>after 2015</td>\n",
       "      <td>-0.996406</td>\n",
       "      <td>0.672161</td>\n",
       "      <td>-0.508946</td>\n",
       "      <td>0.107511</td>\n",
       "      <td>sedan</td>\n",
       "      <td>-0.661462</td>\n",
       "      <td>-0.43102</td>\n",
       "      <td>-0.639263</td>\n",
       "      <td>0.0</td>\n",
       "    </tr>\n",
       "    <tr>\n",
       "      <th>1</th>\n",
       "      <td>0.861480</td>\n",
       "      <td>16-25</td>\n",
       "      <td>male</td>\n",
       "      <td>majority</td>\n",
       "      <td>0-9y</td>\n",
       "      <td>none</td>\n",
       "      <td>poverty</td>\n",
       "      <td>-1.147989</td>\n",
       "      <td>-1.516684</td>\n",
       "      <td>before 2015</td>\n",
       "      <td>-0.996406</td>\n",
       "      <td>-1.487739</td>\n",
       "      <td>-0.508946</td>\n",
       "      <td>1.526817</td>\n",
       "      <td>sedan</td>\n",
       "      <td>-0.661462</td>\n",
       "      <td>-0.43102</td>\n",
       "      <td>-0.639263</td>\n",
       "      <td>1.0</td>\n",
       "    </tr>\n",
       "    <tr>\n",
       "      <th>2</th>\n",
       "      <td>-1.036566</td>\n",
       "      <td>16-25</td>\n",
       "      <td>female</td>\n",
       "      <td>majority</td>\n",
       "      <td>0-9y</td>\n",
       "      <td>high school</td>\n",
       "      <td>working class</td>\n",
       "      <td>-0.164635</td>\n",
       "      <td>0.659333</td>\n",
       "      <td>before 2015</td>\n",
       "      <td>-0.996406</td>\n",
       "      <td>-1.487739</td>\n",
       "      <td>-0.508946</td>\n",
       "      <td>-0.247315</td>\n",
       "      <td>sedan</td>\n",
       "      <td>-0.661462</td>\n",
       "      <td>-0.43102</td>\n",
       "      <td>-0.639263</td>\n",
       "      <td>0.0</td>\n",
       "    </tr>\n",
       "    <tr>\n",
       "      <th>3</th>\n",
       "      <td>-0.074671</td>\n",
       "      <td>16-25</td>\n",
       "      <td>male</td>\n",
       "      <td>majority</td>\n",
       "      <td>0-9y</td>\n",
       "      <td>university</td>\n",
       "      <td>working class</td>\n",
       "      <td>-2.250138</td>\n",
       "      <td>0.659333</td>\n",
       "      <td>before 2015</td>\n",
       "      <td>-0.996406</td>\n",
       "      <td>0.672161</td>\n",
       "      <td>0.682034</td>\n",
       "      <td>-0.247315</td>\n",
       "      <td>sedan</td>\n",
       "      <td>-0.661462</td>\n",
       "      <td>-0.43102</td>\n",
       "      <td>-0.639263</td>\n",
       "      <td>0.0</td>\n",
       "    </tr>\n",
       "    <tr>\n",
       "      <th>4</th>\n",
       "      <td>0.796997</td>\n",
       "      <td>26-39</td>\n",
       "      <td>male</td>\n",
       "      <td>majority</td>\n",
       "      <td>10-19y</td>\n",
       "      <td>none</td>\n",
       "      <td>working class</td>\n",
       "      <td>-0.925672</td>\n",
       "      <td>0.659333</td>\n",
       "      <td>before 2015</td>\n",
       "      <td>-0.996406</td>\n",
       "      <td>-1.487739</td>\n",
       "      <td>0.682034</td>\n",
       "      <td>0.107511</td>\n",
       "      <td>sedan</td>\n",
       "      <td>0.230657</td>\n",
       "      <td>-0.43102</td>\n",
       "      <td>-0.034072</td>\n",
       "      <td>1.0</td>\n",
       "    </tr>\n",
       "  </tbody>\n",
       "</table>\n",
       "</div>"
      ],
      "text/plain": [
       "         ID    AGE  GENDER      RACE DRIVING_EXPERIENCE    EDUCATION  \\\n",
       "0  0.237911    65+  female  majority               0-9y  high school   \n",
       "1  0.861480  16-25    male  majority               0-9y         none   \n",
       "2 -1.036566  16-25  female  majority               0-9y  high school   \n",
       "3 -0.074671  16-25    male  majority               0-9y   university   \n",
       "4  0.796997  26-39    male  majority             10-19y         none   \n",
       "\n",
       "          INCOME  CREDIT_SCORE  VEHICLE_OWNERSHIP VEHICLE_YEAR   MARRIED  \\\n",
       "0    upper class      0.822299           0.659333   after 2015 -0.996406   \n",
       "1        poverty     -1.147989          -1.516684  before 2015 -0.996406   \n",
       "2  working class     -0.164635           0.659333  before 2015 -0.996406   \n",
       "3  working class     -2.250138           0.659333  before 2015 -0.996406   \n",
       "4  working class     -0.925672           0.659333  before 2015 -0.996406   \n",
       "\n",
       "   CHILDREN  POSTAL_CODE  ANNUAL_MILEAGE VEHICLE_TYPE  SPEEDING_VIOLATIONS  \\\n",
       "0  0.672161    -0.508946        0.107511        sedan            -0.661462   \n",
       "1 -1.487739    -0.508946        1.526817        sedan            -0.661462   \n",
       "2 -1.487739    -0.508946       -0.247315        sedan            -0.661462   \n",
       "3  0.672161     0.682034       -0.247315        sedan            -0.661462   \n",
       "4 -1.487739     0.682034        0.107511        sedan             0.230657   \n",
       "\n",
       "      DUIS  PAST_ACCIDENTS  OUTCOME  \n",
       "0 -0.43102       -0.639263      0.0  \n",
       "1 -0.43102       -0.639263      1.0  \n",
       "2 -0.43102       -0.639263      0.0  \n",
       "3 -0.43102       -0.639263      0.0  \n",
       "4 -0.43102       -0.034072      1.0  "
      ]
     },
     "execution_count": 261,
     "metadata": {},
     "output_type": "execute_result"
    }
   ],
   "source": [
    "df4.head()"
   ]
  },
  {
   "cell_type": "markdown",
   "metadata": {},
   "source": [
    "#### 4. Lakukan Data cleaning pada data dengan nilai null"
   ]
  },
  {
   "cell_type": "markdown",
   "metadata": {},
   "source": [
    "mengimpor modul SimpleImputer dari pustaka Scikit-Learn (sklearn).digunakan dalam pra-pemrosesan data untuk mengisi (impute) nilai-nilai yang hilang dalam dataset dengan nilai-nilai tertentu"
   ]
  },
  {
   "cell_type": "markdown",
   "metadata": {},
   "source": [
    "dan membuat beberapa atribut dan record menjadi null"
   ]
  },
  {
   "cell_type": "code",
   "execution_count": 282,
   "metadata": {},
   "outputs": [],
   "source": [
    "from sklearn.impute import SimpleImputer\n",
    "df.loc[342, 'DRIVING_EXPERIENCE'] = np.nan\n",
    "df.loc[142, 'DRIVING_EXPERIENCE'] = np.nan\n",
    "df.loc[242, 'DRIVING_EXPERIENCE'] = np.nan\n",
    "df.loc[233, 'DUIS'] = np.nan"
   ]
  },
  {
   "cell_type": "markdown",
   "metadata": {},
   "source": [
    "Untuk menampilkan Atribut mana saja yang memiliki null dan berapa banyak yang null"
   ]
  },
  {
   "cell_type": "code",
   "execution_count": 283,
   "metadata": {},
   "outputs": [
    {
     "data": {
      "text/plain": [
       "ID                       0\n",
       "AGE                      0\n",
       "GENDER                   0\n",
       "RACE                     0\n",
       "DRIVING_EXPERIENCE       3\n",
       "EDUCATION                0\n",
       "INCOME                   0\n",
       "CREDIT_SCORE           982\n",
       "VEHICLE_OWNERSHIP        0\n",
       "VEHICLE_YEAR             0\n",
       "MARRIED                  0\n",
       "CHILDREN                 0\n",
       "POSTAL_CODE              0\n",
       "ANNUAL_MILEAGE         957\n",
       "VEHICLE_TYPE             0\n",
       "SPEEDING_VIOLATIONS      0\n",
       "DUIS                     1\n",
       "PAST_ACCIDENTS           0\n",
       "OUTCOME                  0\n",
       "dtype: int64"
      ]
     },
     "execution_count": 283,
     "metadata": {},
     "output_type": "execute_result"
    }
   ],
   "source": [
    "df.isnull().sum()"
   ]
  },
  {
   "cell_type": "markdown",
   "metadata": {},
   "source": [
    "SimpleImputer dengan strategi 'mean' (strategy='mean') untuk mengisi nilai-nilai yang null dalam kolom 'ANNUAL_MILEAGE' dan 'CREDIT_SCORE dengan tipe data Float dari DataFrame df."
   ]
  },
  {
   "cell_type": "code",
   "execution_count": 285,
   "metadata": {},
   "outputs": [],
   "source": [
    "imputer_mean = SimpleImputer(strategy='mean')\n",
    "df[\"ANNUAL_MILEAGE\"] = imputer_mean.fit_transform(df[[\"ANNUAL_MILEAGE\"]])\n",
    "\n",
    "imputer_mean = SimpleImputer(strategy='mean')\n",
    "df[\"CREDIT_SCORE\"] = imputer_mean.fit_transform(df[[\"CREDIT_SCORE\"]])"
   ]
  },
  {
   "cell_type": "markdown",
   "metadata": {},
   "source": [
    "SimpleImputer dengan strategi 'median' (strategy='median') untuk mengisi nilai-nilai null dalam kolom 'DUIS' dengan tipe data int dari DataFrame df."
   ]
  },
  {
   "cell_type": "code",
   "execution_count": 286,
   "metadata": {},
   "outputs": [],
   "source": [
    "imputer_median = SimpleImputer(strategy='median')\n",
    "df[\"DUIS\"] = imputer_median.fit_transform(df[[\"DUIS\"]])"
   ]
  },
  {
   "cell_type": "markdown",
   "metadata": {},
   "source": [
    "menggunakan metode fillna pada kolom 'DRIVING_EXPERIENCE' dari DataFrame df dengan tipe data object untuk mengisi nilai-nilai null dengan modus dari kolom tersebut."
   ]
  },
  {
   "cell_type": "code",
   "execution_count": 287,
   "metadata": {},
   "outputs": [],
   "source": [
    "df[\"DRIVING_EXPERIENCE\"].fillna(df[\"DRIVING_EXPERIENCE\"].mode()[0], inplace=True) "
   ]
  },
  {
   "cell_type": "markdown",
   "metadata": {},
   "source": [
    "Mengecek apakah  Masih ada yang Null"
   ]
  },
  {
   "cell_type": "code",
   "execution_count": 288,
   "metadata": {},
   "outputs": [
    {
     "name": "stdout",
     "output_type": "stream",
     "text": [
      "ID                     0\n",
      "AGE                    0\n",
      "GENDER                 0\n",
      "RACE                   0\n",
      "DRIVING_EXPERIENCE     0\n",
      "EDUCATION              0\n",
      "INCOME                 0\n",
      "CREDIT_SCORE           0\n",
      "VEHICLE_OWNERSHIP      0\n",
      "VEHICLE_YEAR           0\n",
      "MARRIED                0\n",
      "CHILDREN               0\n",
      "POSTAL_CODE            0\n",
      "ANNUAL_MILEAGE         0\n",
      "VEHICLE_TYPE           0\n",
      "SPEEDING_VIOLATIONS    0\n",
      "DUIS                   0\n",
      "PAST_ACCIDENTS         0\n",
      "OUTCOME                0\n",
      "dtype: int64\n"
     ]
    }
   ],
   "source": [
    "print(df.isna().sum())"
   ]
  },
  {
   "cell_type": "markdown",
   "metadata": {},
   "source": [
    "#### 5. Lakukan Data cleaning pada data dengan nilai duplikat. "
   ]
  },
  {
   "cell_type": "markdown",
   "metadata": {},
   "source": [
    "Karena Tidak Ada duplikat maka akan dilakukan duplikat pada dataset "
   ]
  },
  {
   "cell_type": "code",
   "execution_count": 290,
   "metadata": {},
   "outputs": [],
   "source": [
    "n_baris_duplikat = 1\n",
    "data_duplikat = pd.concat([df] * n_baris_duplikat, ignore_index=True)\n",
    "    \n",
    "# Gabungkan data asli dengan data duplikat\n",
    "data_with_duplicates = pd.concat([df, data_duplikat], ignore_index=True)\n",
    "data_with_duplicates.to_csv('file_with_duplicates.csv', index=False)\n"
   ]
  },
  {
   "cell_type": "markdown",
   "metadata": {},
   "source": [
    "Mengecek berapa bnayak data yang duplicat"
   ]
  },
  {
   "cell_type": "code",
   "execution_count": 291,
   "metadata": {},
   "outputs": [
    {
     "data": {
      "text/plain": [
       "10000"
      ]
     },
     "execution_count": 291,
     "metadata": {},
     "output_type": "execute_result"
    }
   ],
   "source": [
    "data_with_duplicates.duplicated().sum()"
   ]
  },
  {
   "cell_type": "markdown",
   "metadata": {},
   "source": [
    "Menhapus data duplicat dan Mengecek berapa banyak data yang duplicat "
   ]
  },
  {
   "cell_type": "code",
   "execution_count": 292,
   "metadata": {},
   "outputs": [
    {
     "data": {
      "text/plain": [
       "0"
      ]
     },
     "execution_count": 292,
     "metadata": {},
     "output_type": "execute_result"
    }
   ],
   "source": [
    "data_with_duplicates.drop_duplicates(inplace=True)\n",
    "data_with_duplicates.duplicated().sum()"
   ]
  },
  {
   "cell_type": "markdown",
   "metadata": {},
   "source": [
    "#### 6. Ganti tipe data salah satu attribute angka"
   ]
  },
  {
   "cell_type": "markdown",
   "metadata": {},
   "source": [
    "df.dtypes digunakan untuk menampilkan tipe data (data types) dari setiap kolom (fitur) dalam DataFrame df"
   ]
  },
  {
   "cell_type": "code",
   "execution_count": 273,
   "metadata": {},
   "outputs": [
    {
     "data": {
      "text/plain": [
       "ID                       int64\n",
       "AGE                     object\n",
       "GENDER                  object\n",
       "RACE                    object\n",
       "DRIVING_EXPERIENCE      object\n",
       "EDUCATION               object\n",
       "INCOME                  object\n",
       "CREDIT_SCORE           float64\n",
       "VEHICLE_OWNERSHIP      float64\n",
       "VEHICLE_YEAR            object\n",
       "MARRIED                float64\n",
       "CHILDREN               float64\n",
       "POSTAL_CODE              int64\n",
       "ANNUAL_MILEAGE         float64\n",
       "VEHICLE_TYPE            object\n",
       "SPEEDING_VIOLATIONS      int64\n",
       "DUIS                     int64\n",
       "PAST_ACCIDENTS           int64\n",
       "OUTCOME                float64\n",
       "dtype: object"
      ]
     },
     "execution_count": 273,
     "metadata": {},
     "output_type": "execute_result"
    }
   ],
   "source": [
    "df.dtypes"
   ]
  },
  {
   "cell_type": "markdown",
   "metadata": {},
   "source": [
    "mengubah tipe data kolom 'MARRIED' dalam DataFrame df menjadi int64 menggunakan metode .astype('int64')."
   ]
  },
  {
   "cell_type": "code",
   "execution_count": 274,
   "metadata": {},
   "outputs": [
    {
     "data": {
      "text/plain": [
       "dtype('int64')"
      ]
     },
     "execution_count": 274,
     "metadata": {},
     "output_type": "execute_result"
    }
   ],
   "source": [
    "df['MARRIED'] = df['MARRIED'].astype('int64')\n",
    "df['MARRIED'].dtype"
   ]
  },
  {
   "cell_type": "markdown",
   "metadata": {},
   "source": [
    "#### 7. Lakukan one hot encoding pada dataset yang kalian miliki"
   ]
  },
  {
   "cell_type": "markdown",
   "metadata": {},
   "source": [
    "mengimpor kelas OneHotEncoder dari library Scikit-Learn (sklearn). digunakan dalam pra-pemrosesan data data kategorikal atau variabel kualitatif"
   ]
  },
  {
   "cell_type": "code",
   "execution_count": 275,
   "metadata": {},
   "outputs": [],
   "source": [
    "from sklearn.preprocessing import OneHotEncoder"
   ]
  },
  {
   "cell_type": "markdown",
   "metadata": {},
   "source": [
    "menggunakan variabel one untuk melakukan one-hot encoding pada kolom 'OUTCOME' dari DataFrame df"
   ]
  },
  {
   "cell_type": "code",
   "execution_count": 276,
   "metadata": {},
   "outputs": [
    {
     "data": {
      "text/plain": [
       "array([[1., 0.],\n",
       "       [0., 1.],\n",
       "       [1., 0.],\n",
       "       ...,\n",
       "       [1., 0.],\n",
       "       [0., 1.],\n",
       "       [1., 0.]])"
      ]
     },
     "execution_count": 276,
     "metadata": {},
     "output_type": "execute_result"
    }
   ],
   "source": [
    "one = OneHotEncoder(sparse_output=False)\n",
    "Encoded = one.fit_transform(df[['OUTCOME']])\n",
    "Encoded"
   ]
  },
  {
   "cell_type": "markdown",
   "metadata": {},
   "source": [
    "membuat DataFrame baru hotenco dari hasil one-hot encoding yang telah dilakukan sebelumnya."
   ]
  },
  {
   "cell_type": "code",
   "execution_count": 277,
   "metadata": {},
   "outputs": [
    {
     "data": {
      "text/html": [
       "<div>\n",
       "<style scoped>\n",
       "    .dataframe tbody tr th:only-of-type {\n",
       "        vertical-align: middle;\n",
       "    }\n",
       "\n",
       "    .dataframe tbody tr th {\n",
       "        vertical-align: top;\n",
       "    }\n",
       "\n",
       "    .dataframe thead th {\n",
       "        text-align: right;\n",
       "    }\n",
       "</style>\n",
       "<table border=\"1\" class=\"dataframe\">\n",
       "  <thead>\n",
       "    <tr style=\"text-align: right;\">\n",
       "      <th></th>\n",
       "      <th>1</th>\n",
       "      <th>2</th>\n",
       "    </tr>\n",
       "  </thead>\n",
       "  <tbody>\n",
       "    <tr>\n",
       "      <th>0</th>\n",
       "      <td>1.0</td>\n",
       "      <td>0.0</td>\n",
       "    </tr>\n",
       "    <tr>\n",
       "      <th>1</th>\n",
       "      <td>0.0</td>\n",
       "      <td>1.0</td>\n",
       "    </tr>\n",
       "    <tr>\n",
       "      <th>2</th>\n",
       "      <td>1.0</td>\n",
       "      <td>0.0</td>\n",
       "    </tr>\n",
       "    <tr>\n",
       "      <th>3</th>\n",
       "      <td>1.0</td>\n",
       "      <td>0.0</td>\n",
       "    </tr>\n",
       "    <tr>\n",
       "      <th>4</th>\n",
       "      <td>0.0</td>\n",
       "      <td>1.0</td>\n",
       "    </tr>\n",
       "    <tr>\n",
       "      <th>...</th>\n",
       "      <td>...</td>\n",
       "      <td>...</td>\n",
       "    </tr>\n",
       "    <tr>\n",
       "      <th>9995</th>\n",
       "      <td>1.0</td>\n",
       "      <td>0.0</td>\n",
       "    </tr>\n",
       "    <tr>\n",
       "      <th>9996</th>\n",
       "      <td>1.0</td>\n",
       "      <td>0.0</td>\n",
       "    </tr>\n",
       "    <tr>\n",
       "      <th>9997</th>\n",
       "      <td>1.0</td>\n",
       "      <td>0.0</td>\n",
       "    </tr>\n",
       "    <tr>\n",
       "      <th>9998</th>\n",
       "      <td>0.0</td>\n",
       "      <td>1.0</td>\n",
       "    </tr>\n",
       "    <tr>\n",
       "      <th>9999</th>\n",
       "      <td>1.0</td>\n",
       "      <td>0.0</td>\n",
       "    </tr>\n",
       "  </tbody>\n",
       "</table>\n",
       "<p>10000 rows × 2 columns</p>\n",
       "</div>"
      ],
      "text/plain": [
       "        1    2\n",
       "0     1.0  0.0\n",
       "1     0.0  1.0\n",
       "2     1.0  0.0\n",
       "3     1.0  0.0\n",
       "4     0.0  1.0\n",
       "...   ...  ...\n",
       "9995  1.0  0.0\n",
       "9996  1.0  0.0\n",
       "9997  1.0  0.0\n",
       "9998  0.0  1.0\n",
       "9999  1.0  0.0\n",
       "\n",
       "[10000 rows x 2 columns]"
      ]
     },
     "execution_count": 277,
     "metadata": {},
     "output_type": "execute_result"
    }
   ],
   "source": [
    "hotenco = pd.DataFrame(Encoded, columns=['1','2'])\n",
    "hotenco"
   ]
  }
 ],
 "metadata": {
  "kernelspec": {
   "display_name": "Python 3",
   "language": "python",
   "name": "python3"
  },
  "language_info": {
   "codemirror_mode": {
    "name": "ipython",
    "version": 3
   },
   "file_extension": ".py",
   "mimetype": "text/x-python",
   "name": "python",
   "nbconvert_exporter": "python",
   "pygments_lexer": "ipython3",
   "version": "3.10.7"
  }
 },
 "nbformat": 4,
 "nbformat_minor": 2
}
