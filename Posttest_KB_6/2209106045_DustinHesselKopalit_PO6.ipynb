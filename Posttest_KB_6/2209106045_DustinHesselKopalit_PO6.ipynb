{
 "cells": [
  {
   "cell_type": "markdown",
   "metadata": {},
   "source": [
    "#### Mengimport Library yang di perlukan"
   ]
  },
  {
   "cell_type": "code",
   "execution_count": 1,
   "metadata": {},
   "outputs": [],
   "source": [
    "import pandas as pd\n",
    "import tensorflow as tf\n",
    "import matplotlib.pyplot as plt\n",
    "from tensorflow.keras import Sequential, layers\n",
    "import numpy as np\n",
    "from sklearn.model_selection import train_test_split\n",
    "from sklearn.metrics import accuracy_score\n",
    "from sklearn.preprocessing import MinMaxScaler, LabelEncoder\n",
    "from keras.optimizers import Adam\n",
    "from keras.losses import binary_crossentropy\n",
    "from sklearn.preprocessing import LabelEncoder\n",
    "from sklearn.impute import SimpleImputer\n",
    "from scipy import stats\n",
    "from keras import Sequential\n",
    "from keras.layers import Dense"
   ]
  },
  {
   "cell_type": "markdown",
   "metadata": {},
   "source": [
    "#### Membaca file dataset "
   ]
  },
  {
   "cell_type": "code",
   "execution_count": 2,
   "metadata": {},
   "outputs": [
    {
     "data": {
      "text/html": [
       "<div>\n",
       "<style scoped>\n",
       "    .dataframe tbody tr th:only-of-type {\n",
       "        vertical-align: middle;\n",
       "    }\n",
       "\n",
       "    .dataframe tbody tr th {\n",
       "        vertical-align: top;\n",
       "    }\n",
       "\n",
       "    .dataframe thead th {\n",
       "        text-align: right;\n",
       "    }\n",
       "</style>\n",
       "<table border=\"1\" class=\"dataframe\">\n",
       "  <thead>\n",
       "    <tr style=\"text-align: right;\">\n",
       "      <th></th>\n",
       "      <th>ID</th>\n",
       "      <th>AGE</th>\n",
       "      <th>GENDER</th>\n",
       "      <th>RACE</th>\n",
       "      <th>DRIVING_EXPERIENCE</th>\n",
       "      <th>EDUCATION</th>\n",
       "      <th>INCOME</th>\n",
       "      <th>CREDIT_SCORE</th>\n",
       "      <th>VEHICLE_OWNERSHIP</th>\n",
       "      <th>VEHICLE_YEAR</th>\n",
       "      <th>MARRIED</th>\n",
       "      <th>CHILDREN</th>\n",
       "      <th>POSTAL_CODE</th>\n",
       "      <th>ANNUAL_MILEAGE</th>\n",
       "      <th>VEHICLE_TYPE</th>\n",
       "      <th>SPEEDING_VIOLATIONS</th>\n",
       "      <th>DUIS</th>\n",
       "      <th>PAST_ACCIDENTS</th>\n",
       "      <th>OUTCOME</th>\n",
       "    </tr>\n",
       "  </thead>\n",
       "  <tbody>\n",
       "    <tr>\n",
       "      <th>0</th>\n",
       "      <td>569520</td>\n",
       "      <td>65+</td>\n",
       "      <td>female</td>\n",
       "      <td>majority</td>\n",
       "      <td>0-9y</td>\n",
       "      <td>high school</td>\n",
       "      <td>upper class</td>\n",
       "      <td>0.629027</td>\n",
       "      <td>1.0</td>\n",
       "      <td>after 2015</td>\n",
       "      <td>0.0</td>\n",
       "      <td>1.0</td>\n",
       "      <td>10238</td>\n",
       "      <td>12000.0</td>\n",
       "      <td>sedan</td>\n",
       "      <td>0</td>\n",
       "      <td>0</td>\n",
       "      <td>0</td>\n",
       "      <td>0.0</td>\n",
       "    </tr>\n",
       "    <tr>\n",
       "      <th>1</th>\n",
       "      <td>750365</td>\n",
       "      <td>16-25</td>\n",
       "      <td>male</td>\n",
       "      <td>majority</td>\n",
       "      <td>0-9y</td>\n",
       "      <td>none</td>\n",
       "      <td>poverty</td>\n",
       "      <td>0.357757</td>\n",
       "      <td>0.0</td>\n",
       "      <td>before 2015</td>\n",
       "      <td>0.0</td>\n",
       "      <td>0.0</td>\n",
       "      <td>10238</td>\n",
       "      <td>16000.0</td>\n",
       "      <td>sedan</td>\n",
       "      <td>0</td>\n",
       "      <td>0</td>\n",
       "      <td>0</td>\n",
       "      <td>1.0</td>\n",
       "    </tr>\n",
       "    <tr>\n",
       "      <th>2</th>\n",
       "      <td>199901</td>\n",
       "      <td>16-25</td>\n",
       "      <td>female</td>\n",
       "      <td>majority</td>\n",
       "      <td>0-9y</td>\n",
       "      <td>high school</td>\n",
       "      <td>working class</td>\n",
       "      <td>0.493146</td>\n",
       "      <td>1.0</td>\n",
       "      <td>before 2015</td>\n",
       "      <td>0.0</td>\n",
       "      <td>0.0</td>\n",
       "      <td>10238</td>\n",
       "      <td>11000.0</td>\n",
       "      <td>sedan</td>\n",
       "      <td>0</td>\n",
       "      <td>0</td>\n",
       "      <td>0</td>\n",
       "      <td>0.0</td>\n",
       "    </tr>\n",
       "    <tr>\n",
       "      <th>3</th>\n",
       "      <td>478866</td>\n",
       "      <td>16-25</td>\n",
       "      <td>male</td>\n",
       "      <td>majority</td>\n",
       "      <td>0-9y</td>\n",
       "      <td>university</td>\n",
       "      <td>working class</td>\n",
       "      <td>0.206013</td>\n",
       "      <td>1.0</td>\n",
       "      <td>before 2015</td>\n",
       "      <td>0.0</td>\n",
       "      <td>1.0</td>\n",
       "      <td>32765</td>\n",
       "      <td>11000.0</td>\n",
       "      <td>sedan</td>\n",
       "      <td>0</td>\n",
       "      <td>0</td>\n",
       "      <td>0</td>\n",
       "      <td>0.0</td>\n",
       "    </tr>\n",
       "    <tr>\n",
       "      <th>4</th>\n",
       "      <td>731664</td>\n",
       "      <td>26-39</td>\n",
       "      <td>male</td>\n",
       "      <td>majority</td>\n",
       "      <td>10-19y</td>\n",
       "      <td>none</td>\n",
       "      <td>working class</td>\n",
       "      <td>0.388366</td>\n",
       "      <td>1.0</td>\n",
       "      <td>before 2015</td>\n",
       "      <td>0.0</td>\n",
       "      <td>0.0</td>\n",
       "      <td>32765</td>\n",
       "      <td>12000.0</td>\n",
       "      <td>sedan</td>\n",
       "      <td>2</td>\n",
       "      <td>0</td>\n",
       "      <td>1</td>\n",
       "      <td>1.0</td>\n",
       "    </tr>\n",
       "    <tr>\n",
       "      <th>...</th>\n",
       "      <td>...</td>\n",
       "      <td>...</td>\n",
       "      <td>...</td>\n",
       "      <td>...</td>\n",
       "      <td>...</td>\n",
       "      <td>...</td>\n",
       "      <td>...</td>\n",
       "      <td>...</td>\n",
       "      <td>...</td>\n",
       "      <td>...</td>\n",
       "      <td>...</td>\n",
       "      <td>...</td>\n",
       "      <td>...</td>\n",
       "      <td>...</td>\n",
       "      <td>...</td>\n",
       "      <td>...</td>\n",
       "      <td>...</td>\n",
       "      <td>...</td>\n",
       "      <td>...</td>\n",
       "    </tr>\n",
       "    <tr>\n",
       "      <th>9995</th>\n",
       "      <td>323164</td>\n",
       "      <td>26-39</td>\n",
       "      <td>female</td>\n",
       "      <td>majority</td>\n",
       "      <td>10-19y</td>\n",
       "      <td>university</td>\n",
       "      <td>upper class</td>\n",
       "      <td>0.582787</td>\n",
       "      <td>1.0</td>\n",
       "      <td>before 2015</td>\n",
       "      <td>0.0</td>\n",
       "      <td>0.0</td>\n",
       "      <td>10238</td>\n",
       "      <td>16000.0</td>\n",
       "      <td>sedan</td>\n",
       "      <td>0</td>\n",
       "      <td>0</td>\n",
       "      <td>1</td>\n",
       "      <td>0.0</td>\n",
       "    </tr>\n",
       "    <tr>\n",
       "      <th>9996</th>\n",
       "      <td>910346</td>\n",
       "      <td>26-39</td>\n",
       "      <td>female</td>\n",
       "      <td>majority</td>\n",
       "      <td>10-19y</td>\n",
       "      <td>none</td>\n",
       "      <td>middle class</td>\n",
       "      <td>0.522231</td>\n",
       "      <td>1.0</td>\n",
       "      <td>after 2015</td>\n",
       "      <td>0.0</td>\n",
       "      <td>1.0</td>\n",
       "      <td>32765</td>\n",
       "      <td>NaN</td>\n",
       "      <td>sedan</td>\n",
       "      <td>1</td>\n",
       "      <td>0</td>\n",
       "      <td>0</td>\n",
       "      <td>0.0</td>\n",
       "    </tr>\n",
       "    <tr>\n",
       "      <th>9997</th>\n",
       "      <td>468409</td>\n",
       "      <td>26-39</td>\n",
       "      <td>male</td>\n",
       "      <td>majority</td>\n",
       "      <td>0-9y</td>\n",
       "      <td>high school</td>\n",
       "      <td>middle class</td>\n",
       "      <td>0.470940</td>\n",
       "      <td>1.0</td>\n",
       "      <td>before 2015</td>\n",
       "      <td>0.0</td>\n",
       "      <td>1.0</td>\n",
       "      <td>10238</td>\n",
       "      <td>14000.0</td>\n",
       "      <td>sedan</td>\n",
       "      <td>0</td>\n",
       "      <td>0</td>\n",
       "      <td>0</td>\n",
       "      <td>0.0</td>\n",
       "    </tr>\n",
       "    <tr>\n",
       "      <th>9998</th>\n",
       "      <td>903459</td>\n",
       "      <td>26-39</td>\n",
       "      <td>female</td>\n",
       "      <td>majority</td>\n",
       "      <td>10-19y</td>\n",
       "      <td>high school</td>\n",
       "      <td>poverty</td>\n",
       "      <td>0.364185</td>\n",
       "      <td>0.0</td>\n",
       "      <td>before 2015</td>\n",
       "      <td>0.0</td>\n",
       "      <td>1.0</td>\n",
       "      <td>10238</td>\n",
       "      <td>13000.0</td>\n",
       "      <td>sedan</td>\n",
       "      <td>2</td>\n",
       "      <td>0</td>\n",
       "      <td>1</td>\n",
       "      <td>1.0</td>\n",
       "    </tr>\n",
       "    <tr>\n",
       "      <th>9999</th>\n",
       "      <td>442696</td>\n",
       "      <td>26-39</td>\n",
       "      <td>female</td>\n",
       "      <td>majority</td>\n",
       "      <td>0-9y</td>\n",
       "      <td>none</td>\n",
       "      <td>working class</td>\n",
       "      <td>0.435225</td>\n",
       "      <td>1.0</td>\n",
       "      <td>before 2015</td>\n",
       "      <td>1.0</td>\n",
       "      <td>1.0</td>\n",
       "      <td>10238</td>\n",
       "      <td>13000.0</td>\n",
       "      <td>sedan</td>\n",
       "      <td>0</td>\n",
       "      <td>0</td>\n",
       "      <td>0</td>\n",
       "      <td>0.0</td>\n",
       "    </tr>\n",
       "  </tbody>\n",
       "</table>\n",
       "<p>10000 rows × 19 columns</p>\n",
       "</div>"
      ],
      "text/plain": [
       "          ID    AGE  GENDER      RACE DRIVING_EXPERIENCE    EDUCATION  \\\n",
       "0     569520    65+  female  majority               0-9y  high school   \n",
       "1     750365  16-25    male  majority               0-9y         none   \n",
       "2     199901  16-25  female  majority               0-9y  high school   \n",
       "3     478866  16-25    male  majority               0-9y   university   \n",
       "4     731664  26-39    male  majority             10-19y         none   \n",
       "...      ...    ...     ...       ...                ...          ...   \n",
       "9995  323164  26-39  female  majority             10-19y   university   \n",
       "9996  910346  26-39  female  majority             10-19y         none   \n",
       "9997  468409  26-39    male  majority               0-9y  high school   \n",
       "9998  903459  26-39  female  majority             10-19y  high school   \n",
       "9999  442696  26-39  female  majority               0-9y         none   \n",
       "\n",
       "             INCOME  CREDIT_SCORE  VEHICLE_OWNERSHIP VEHICLE_YEAR  MARRIED  \\\n",
       "0       upper class      0.629027                1.0   after 2015      0.0   \n",
       "1           poverty      0.357757                0.0  before 2015      0.0   \n",
       "2     working class      0.493146                1.0  before 2015      0.0   \n",
       "3     working class      0.206013                1.0  before 2015      0.0   \n",
       "4     working class      0.388366                1.0  before 2015      0.0   \n",
       "...             ...           ...                ...          ...      ...   \n",
       "9995    upper class      0.582787                1.0  before 2015      0.0   \n",
       "9996   middle class      0.522231                1.0   after 2015      0.0   \n",
       "9997   middle class      0.470940                1.0  before 2015      0.0   \n",
       "9998        poverty      0.364185                0.0  before 2015      0.0   \n",
       "9999  working class      0.435225                1.0  before 2015      1.0   \n",
       "\n",
       "      CHILDREN  POSTAL_CODE  ANNUAL_MILEAGE VEHICLE_TYPE  SPEEDING_VIOLATIONS  \\\n",
       "0          1.0        10238         12000.0        sedan                    0   \n",
       "1          0.0        10238         16000.0        sedan                    0   \n",
       "2          0.0        10238         11000.0        sedan                    0   \n",
       "3          1.0        32765         11000.0        sedan                    0   \n",
       "4          0.0        32765         12000.0        sedan                    2   \n",
       "...        ...          ...             ...          ...                  ...   \n",
       "9995       0.0        10238         16000.0        sedan                    0   \n",
       "9996       1.0        32765             NaN        sedan                    1   \n",
       "9997       1.0        10238         14000.0        sedan                    0   \n",
       "9998       1.0        10238         13000.0        sedan                    2   \n",
       "9999       1.0        10238         13000.0        sedan                    0   \n",
       "\n",
       "      DUIS  PAST_ACCIDENTS  OUTCOME  \n",
       "0        0               0      0.0  \n",
       "1        0               0      1.0  \n",
       "2        0               0      0.0  \n",
       "3        0               0      0.0  \n",
       "4        0               1      1.0  \n",
       "...    ...             ...      ...  \n",
       "9995     0               1      0.0  \n",
       "9996     0               0      0.0  \n",
       "9997     0               0      0.0  \n",
       "9998     0               1      1.0  \n",
       "9999     0               0      0.0  \n",
       "\n",
       "[10000 rows x 19 columns]"
      ]
     },
     "execution_count": 2,
     "metadata": {},
     "output_type": "execute_result"
    }
   ],
   "source": [
    "df = pd.read_csv('Car_Insurance_Claim.csv')\n",
    "df"
   ]
  },
  {
   "cell_type": "code",
   "execution_count": 3,
   "metadata": {},
   "outputs": [
    {
     "name": "stdout",
     "output_type": "stream",
     "text": [
      "<class 'pandas.core.frame.DataFrame'>\n",
      "RangeIndex: 10000 entries, 0 to 9999\n",
      "Data columns (total 19 columns):\n",
      " #   Column               Non-Null Count  Dtype  \n",
      "---  ------               --------------  -----  \n",
      " 0   ID                   10000 non-null  int64  \n",
      " 1   AGE                  10000 non-null  object \n",
      " 2   GENDER               10000 non-null  object \n",
      " 3   RACE                 10000 non-null  object \n",
      " 4   DRIVING_EXPERIENCE   10000 non-null  object \n",
      " 5   EDUCATION            10000 non-null  object \n",
      " 6   INCOME               10000 non-null  object \n",
      " 7   CREDIT_SCORE         9018 non-null   float64\n",
      " 8   VEHICLE_OWNERSHIP    10000 non-null  float64\n",
      " 9   VEHICLE_YEAR         10000 non-null  object \n",
      " 10  MARRIED              10000 non-null  float64\n",
      " 11  CHILDREN             10000 non-null  float64\n",
      " 12  POSTAL_CODE          10000 non-null  int64  \n",
      " 13  ANNUAL_MILEAGE       9043 non-null   float64\n",
      " 14  VEHICLE_TYPE         10000 non-null  object \n",
      " 15  SPEEDING_VIOLATIONS  10000 non-null  int64  \n",
      " 16  DUIS                 10000 non-null  int64  \n",
      " 17  PAST_ACCIDENTS       10000 non-null  int64  \n",
      " 18  OUTCOME              10000 non-null  float64\n",
      "dtypes: float64(6), int64(5), object(8)\n",
      "memory usage: 1.4+ MB\n"
     ]
    }
   ],
   "source": [
    "df.info()"
   ]
  },
  {
   "cell_type": "markdown",
   "metadata": {},
   "source": [
    "#### Mengecek data duplicate"
   ]
  },
  {
   "cell_type": "code",
   "execution_count": 4,
   "metadata": {},
   "outputs": [
    {
     "data": {
      "text/plain": [
       "ID                       0\n",
       "AGE                      0\n",
       "GENDER                   0\n",
       "RACE                     0\n",
       "DRIVING_EXPERIENCE       0\n",
       "EDUCATION                0\n",
       "INCOME                   0\n",
       "CREDIT_SCORE           982\n",
       "VEHICLE_OWNERSHIP        0\n",
       "VEHICLE_YEAR             0\n",
       "MARRIED                  0\n",
       "CHILDREN                 0\n",
       "POSTAL_CODE              0\n",
       "ANNUAL_MILEAGE         957\n",
       "VEHICLE_TYPE             0\n",
       "SPEEDING_VIOLATIONS      0\n",
       "DUIS                     0\n",
       "PAST_ACCIDENTS           0\n",
       "OUTCOME                  0\n",
       "dtype: int64"
      ]
     },
     "execution_count": 4,
     "metadata": {},
     "output_type": "execute_result"
    }
   ],
   "source": [
    "df.isnull().sum()\n"
   ]
  },
  {
   "cell_type": "markdown",
   "metadata": {},
   "source": [
    "#### Menghapus Kolom"
   ]
  },
  {
   "cell_type": "code",
   "execution_count": 5,
   "metadata": {},
   "outputs": [],
   "source": [
    "df.drop(['ID'], axis=1, inplace=True)"
   ]
  },
  {
   "cell_type": "markdown",
   "metadata": {},
   "source": [
    "#### Mengubah data kategori(object) menjadi numerik"
   ]
  },
  {
   "cell_type": "code",
   "execution_count": 6,
   "metadata": {},
   "outputs": [],
   "source": [
    "col=['AGE','GENDER','RACE','INCOME','DRIVING_EXPERIENCE','EDUCATION','VEHICLE_YEAR','VEHICLE_TYPE']\n",
    "le=LabelEncoder()\n",
    "for i in col:\n",
    "    df[i]=le.fit_transform(df[i])"
   ]
  },
  {
   "cell_type": "markdown",
   "metadata": {},
   "source": [
    "#### Menghapus Data Duplikat"
   ]
  },
  {
   "cell_type": "code",
   "execution_count": 7,
   "metadata": {},
   "outputs": [],
   "source": [
    "imputer_mean = SimpleImputer(strategy='mean')\n",
    "df[\"ANNUAL_MILEAGE\"] = imputer_mean.fit_transform(df[[\"ANNUAL_MILEAGE\"]])\n",
    "\n",
    "imputer_mean = SimpleImputer(strategy='mean')\n",
    "df[\"CREDIT_SCORE\"] = imputer_mean.fit_transform(df[[\"CREDIT_SCORE\"]])"
   ]
  },
  {
   "cell_type": "markdown",
   "metadata": {},
   "source": [
    "#### Membersihkan Outliers"
   ]
  },
  {
   "cell_type": "code",
   "execution_count": 8,
   "metadata": {},
   "outputs": [],
   "source": [
    "df = df[(np.abs(stats.zscore(df.select_dtypes(['int64' , 'float64']))) < 3).all(axis=1)]"
   ]
  },
  {
   "cell_type": "markdown",
   "metadata": {},
   "source": [
    "####  SPLIT DATASET"
   ]
  },
  {
   "cell_type": "code",
   "execution_count": 9,
   "metadata": {},
   "outputs": [],
   "source": [
    "X = df[['CREDIT_SCORE','ANNUAL_MILEAGE']]\n",
    "y = df[['OUTCOME']]\n",
    "X_train, X_test, y_train , y_test = train_test_split(X, y, test_size = 0.2, random_state = 42)"
   ]
  },
  {
   "cell_type": "markdown",
   "metadata": {},
   "source": [
    "#### Preprocessing pada data split"
   ]
  },
  {
   "cell_type": "code",
   "execution_count": 10,
   "metadata": {},
   "outputs": [],
   "source": [
    "mm = MinMaxScaler()\n",
    "X_train = mm.fit_transform(X_train)\n",
    "X_test = mm.transform(X_test)"
   ]
  },
  {
   "cell_type": "code",
   "execution_count": 11,
   "metadata": {},
   "outputs": [
    {
     "name": "stderr",
     "output_type": "stream",
     "text": [
      "c:\\Users\\HP\\AppData\\Local\\Programs\\Python\\Python310\\lib\\site-packages\\sklearn\\preprocessing\\_label.py:114: DataConversionWarning: A column-vector y was passed when a 1d array was expected. Please change the shape of y to (n_samples, ), for example using ravel().\n",
      "  y = column_or_1d(y, warn=True)\n",
      "c:\\Users\\HP\\AppData\\Local\\Programs\\Python\\Python310\\lib\\site-packages\\sklearn\\preprocessing\\_label.py:114: DataConversionWarning: A column-vector y was passed when a 1d array was expected. Please change the shape of y to (n_samples, ), for example using ravel().\n",
      "  y = column_or_1d(y, warn=True)\n"
     ]
    }
   ],
   "source": [
    "le = LabelEncoder()\n",
    "y_train = le.fit_transform(y_train)\n",
    "y_test = le.fit_transform(y_test)"
   ]
  },
  {
   "cell_type": "code",
   "execution_count": 12,
   "metadata": {},
   "outputs": [
    {
     "data": {
      "text/plain": [
       "(7055, 2)"
      ]
     },
     "execution_count": 12,
     "metadata": {},
     "output_type": "execute_result"
    }
   ],
   "source": [
    "X_train.shape"
   ]
  },
  {
   "cell_type": "markdown",
   "metadata": {},
   "source": [
    "#### COMPILE DAN LATIH MODEL"
   ]
  },
  {
   "cell_type": "code",
   "execution_count": 13,
   "metadata": {},
   "outputs": [],
   "source": [
    "model = Sequential([\n",
    "    layers.Dense(16, activation='relu', input_shape=[2]), #Input Layer\n",
    "    layers.Dense(32, activation='relu'),\n",
    "    layers.Dense(1, activation='sigmoid') # Output Layer\n",
    "    # layers.Dense(2, activation='softmax')\n",
    "])\n",
    "\n",
    "model.compile(optimizer='Adam', \n",
    "              loss='binary_crossentropy',\n",
    "              metrics=['accuracy'])"
   ]
  },
  {
   "cell_type": "markdown",
   "metadata": {},
   "source": [
    "#### Melakukan fit pada model"
   ]
  },
  {
   "cell_type": "code",
   "execution_count": 14,
   "metadata": {},
   "outputs": [
    {
     "name": "stdout",
     "output_type": "stream",
     "text": [
      "Epoch 1/50\n"
     ]
    },
    {
     "name": "stdout",
     "output_type": "stream",
     "text": [
      "177/177 [==============================] - 2s 5ms/step - loss: 0.6077 - accuracy: 0.6807 - val_loss: 0.5807 - val_accuracy: 0.6832\n",
      "Epoch 2/50\n",
      "177/177 [==============================] - 1s 3ms/step - loss: 0.5792 - accuracy: 0.7007 - val_loss: 0.5722 - val_accuracy: 0.7101\n",
      "Epoch 3/50\n",
      "177/177 [==============================] - 1s 3ms/step - loss: 0.5770 - accuracy: 0.7015 - val_loss: 0.5716 - val_accuracy: 0.7052\n",
      "Epoch 4/50\n",
      "177/177 [==============================] - 1s 3ms/step - loss: 0.5793 - accuracy: 0.7016 - val_loss: 0.5716 - val_accuracy: 0.7066\n",
      "Epoch 5/50\n",
      "177/177 [==============================] - 1s 3ms/step - loss: 0.5770 - accuracy: 0.7027 - val_loss: 0.5720 - val_accuracy: 0.7023\n",
      "Epoch 6/50\n",
      "177/177 [==============================] - 1s 3ms/step - loss: 0.5771 - accuracy: 0.7009 - val_loss: 0.5701 - val_accuracy: 0.7116\n",
      "Epoch 7/50\n",
      "177/177 [==============================] - 1s 3ms/step - loss: 0.5766 - accuracy: 0.7036 - val_loss: 0.5701 - val_accuracy: 0.7094\n",
      "Epoch 8/50\n",
      "177/177 [==============================] - 1s 3ms/step - loss: 0.5762 - accuracy: 0.7036 - val_loss: 0.5813 - val_accuracy: 0.6889\n",
      "Epoch 9/50\n",
      "177/177 [==============================] - 1s 3ms/step - loss: 0.5765 - accuracy: 0.7020 - val_loss: 0.5696 - val_accuracy: 0.7101\n",
      "Epoch 10/50\n",
      "177/177 [==============================] - 1s 3ms/step - loss: 0.5764 - accuracy: 0.7029 - val_loss: 0.5698 - val_accuracy: 0.7073\n",
      "Epoch 11/50\n",
      "177/177 [==============================] - 1s 3ms/step - loss: 0.5768 - accuracy: 0.7027 - val_loss: 0.5702 - val_accuracy: 0.7080\n",
      "Epoch 12/50\n",
      "177/177 [==============================] - 1s 3ms/step - loss: 0.5766 - accuracy: 0.7052 - val_loss: 0.5702 - val_accuracy: 0.7101\n",
      "Epoch 13/50\n",
      "177/177 [==============================] - 1s 3ms/step - loss: 0.5757 - accuracy: 0.7057 - val_loss: 0.5695 - val_accuracy: 0.7108\n",
      "Epoch 14/50\n",
      "177/177 [==============================] - 1s 3ms/step - loss: 0.5760 - accuracy: 0.7039 - val_loss: 0.5731 - val_accuracy: 0.7009\n",
      "Epoch 15/50\n",
      "177/177 [==============================] - 1s 3ms/step - loss: 0.5760 - accuracy: 0.7048 - val_loss: 0.5699 - val_accuracy: 0.7066\n",
      "Epoch 16/50\n",
      "177/177 [==============================] - 1s 3ms/step - loss: 0.5758 - accuracy: 0.7050 - val_loss: 0.5700 - val_accuracy: 0.7116\n",
      "Epoch 17/50\n",
      "177/177 [==============================] - 0s 3ms/step - loss: 0.5760 - accuracy: 0.7048 - val_loss: 0.5697 - val_accuracy: 0.7094\n",
      "Epoch 18/50\n",
      "177/177 [==============================] - 1s 3ms/step - loss: 0.5761 - accuracy: 0.7061 - val_loss: 0.5702 - val_accuracy: 0.7094\n",
      "Epoch 19/50\n",
      "177/177 [==============================] - 0s 3ms/step - loss: 0.5763 - accuracy: 0.7036 - val_loss: 0.5699 - val_accuracy: 0.7087\n",
      "Epoch 20/50\n",
      "177/177 [==============================] - 1s 3ms/step - loss: 0.5757 - accuracy: 0.7050 - val_loss: 0.5701 - val_accuracy: 0.7059\n",
      "Epoch 21/50\n",
      "177/177 [==============================] - 1s 3ms/step - loss: 0.5763 - accuracy: 0.7055 - val_loss: 0.5702 - val_accuracy: 0.7059\n",
      "Epoch 22/50\n",
      "177/177 [==============================] - 1s 3ms/step - loss: 0.5760 - accuracy: 0.7068 - val_loss: 0.5695 - val_accuracy: 0.7087\n",
      "Epoch 23/50\n",
      "177/177 [==============================] - 1s 3ms/step - loss: 0.5760 - accuracy: 0.7066 - val_loss: 0.5706 - val_accuracy: 0.7094\n",
      "Epoch 24/50\n",
      "177/177 [==============================] - 1s 3ms/step - loss: 0.5758 - accuracy: 0.7050 - val_loss: 0.5698 - val_accuracy: 0.7108\n",
      "Epoch 25/50\n",
      "177/177 [==============================] - 1s 3ms/step - loss: 0.5754 - accuracy: 0.7054 - val_loss: 0.5713 - val_accuracy: 0.7052\n",
      "Epoch 26/50\n",
      "177/177 [==============================] - 1s 3ms/step - loss: 0.5760 - accuracy: 0.7054 - val_loss: 0.5699 - val_accuracy: 0.7108\n",
      "Epoch 27/50\n",
      "177/177 [==============================] - 1s 3ms/step - loss: 0.5758 - accuracy: 0.7048 - val_loss: 0.5696 - val_accuracy: 0.7116\n",
      "Epoch 28/50\n",
      "177/177 [==============================] - 1s 3ms/step - loss: 0.5759 - accuracy: 0.7045 - val_loss: 0.5739 - val_accuracy: 0.7002\n",
      "Epoch 29/50\n",
      "177/177 [==============================] - 1s 3ms/step - loss: 0.5761 - accuracy: 0.7077 - val_loss: 0.5694 - val_accuracy: 0.7116\n",
      "Epoch 30/50\n",
      "177/177 [==============================] - 1s 3ms/step - loss: 0.5762 - accuracy: 0.7034 - val_loss: 0.5698 - val_accuracy: 0.7094\n",
      "Epoch 31/50\n",
      "177/177 [==============================] - 1s 3ms/step - loss: 0.5760 - accuracy: 0.7055 - val_loss: 0.5698 - val_accuracy: 0.7116\n",
      "Epoch 32/50\n",
      "177/177 [==============================] - 1s 3ms/step - loss: 0.5759 - accuracy: 0.7050 - val_loss: 0.5705 - val_accuracy: 0.7116\n",
      "Epoch 33/50\n",
      "177/177 [==============================] - 1s 3ms/step - loss: 0.5760 - accuracy: 0.7034 - val_loss: 0.5707 - val_accuracy: 0.7066\n",
      "Epoch 34/50\n",
      "177/177 [==============================] - 1s 3ms/step - loss: 0.5757 - accuracy: 0.7023 - val_loss: 0.5696 - val_accuracy: 0.7080\n",
      "Epoch 35/50\n",
      "177/177 [==============================] - 1s 3ms/step - loss: 0.5760 - accuracy: 0.7064 - val_loss: 0.5696 - val_accuracy: 0.7108\n",
      "Epoch 36/50\n",
      "177/177 [==============================] - 1s 3ms/step - loss: 0.5751 - accuracy: 0.7054 - val_loss: 0.5741 - val_accuracy: 0.7052\n",
      "Epoch 37/50\n",
      "177/177 [==============================] - 1s 3ms/step - loss: 0.5762 - accuracy: 0.7062 - val_loss: 0.5697 - val_accuracy: 0.7108\n",
      "Epoch 38/50\n",
      "177/177 [==============================] - 1s 3ms/step - loss: 0.5756 - accuracy: 0.7032 - val_loss: 0.5698 - val_accuracy: 0.7101\n",
      "Epoch 39/50\n",
      "177/177 [==============================] - 1s 4ms/step - loss: 0.5757 - accuracy: 0.7045 - val_loss: 0.5701 - val_accuracy: 0.7052\n",
      "Epoch 40/50\n",
      "177/177 [==============================] - 1s 3ms/step - loss: 0.5762 - accuracy: 0.7048 - val_loss: 0.5694 - val_accuracy: 0.7108\n",
      "Epoch 41/50\n",
      "177/177 [==============================] - 1s 3ms/step - loss: 0.5757 - accuracy: 0.7052 - val_loss: 0.5704 - val_accuracy: 0.7101\n",
      "Epoch 42/50\n",
      "177/177 [==============================] - 1s 3ms/step - loss: 0.5761 - accuracy: 0.7034 - val_loss: 0.5698 - val_accuracy: 0.7101\n",
      "Epoch 43/50\n",
      "177/177 [==============================] - 0s 3ms/step - loss: 0.5764 - accuracy: 0.7032 - val_loss: 0.5697 - val_accuracy: 0.7116\n",
      "Epoch 44/50\n",
      "177/177 [==============================] - 0s 3ms/step - loss: 0.5758 - accuracy: 0.7054 - val_loss: 0.5697 - val_accuracy: 0.7094\n",
      "Epoch 45/50\n",
      "177/177 [==============================] - 1s 3ms/step - loss: 0.5760 - accuracy: 0.7043 - val_loss: 0.5694 - val_accuracy: 0.7101\n",
      "Epoch 46/50\n",
      "177/177 [==============================] - 1s 3ms/step - loss: 0.5756 - accuracy: 0.7039 - val_loss: 0.5697 - val_accuracy: 0.7123\n",
      "Epoch 47/50\n",
      "177/177 [==============================] - 0s 3ms/step - loss: 0.5761 - accuracy: 0.7064 - val_loss: 0.5704 - val_accuracy: 0.7052\n",
      "Epoch 48/50\n",
      "177/177 [==============================] - 1s 3ms/step - loss: 0.5759 - accuracy: 0.7064 - val_loss: 0.5700 - val_accuracy: 0.7101\n",
      "Epoch 49/50\n",
      "177/177 [==============================] - 0s 3ms/step - loss: 0.5758 - accuracy: 0.7034 - val_loss: 0.5695 - val_accuracy: 0.7116\n",
      "Epoch 50/50\n",
      "177/177 [==============================] - 1s 3ms/step - loss: 0.5758 - accuracy: 0.7082 - val_loss: 0.5700 - val_accuracy: 0.7052\n"
     ]
    }
   ],
   "source": [
    "history = model.fit(X_train, y_train, epochs = 50,validation_split=0.2)\n"
   ]
  },
  {
   "cell_type": "markdown",
   "metadata": {},
   "source": [
    "#### Mengecek akurasi"
   ]
  },
  {
   "cell_type": "code",
   "execution_count": 15,
   "metadata": {},
   "outputs": [
    {
     "name": "stdout",
     "output_type": "stream",
     "text": [
      "56/56 [==============================] - 0s 2ms/step\n"
     ]
    }
   ],
   "source": [
    "y_pred = model.predict(X_test)"
   ]
  },
  {
   "cell_type": "code",
   "execution_count": 16,
   "metadata": {},
   "outputs": [
    {
     "name": "stdout",
     "output_type": "stream",
     "text": [
      "56/56 [==============================] - 0s 3ms/step - loss: 0.5637 - accuracy: 0.7137\n"
     ]
    },
    {
     "data": {
      "text/plain": [
       "[0.563677966594696, 0.713718831539154]"
      ]
     },
     "execution_count": 16,
     "metadata": {},
     "output_type": "execute_result"
    }
   ],
   "source": [
    "model.evaluate(X_test, y_test)"
   ]
  },
  {
   "cell_type": "code",
   "execution_count": 17,
   "metadata": {},
   "outputs": [],
   "source": [
    "y_pred = np.where(y_pred > 0.5, 1, 0).reshape(-1)"
   ]
  },
  {
   "cell_type": "code",
   "execution_count": 18,
   "metadata": {},
   "outputs": [
    {
     "data": {
      "text/plain": [
       "0.713718820861678"
      ]
     },
     "execution_count": 18,
     "metadata": {},
     "output_type": "execute_result"
    }
   ],
   "source": [
    "accuracy_score(y_test, y_pred)"
   ]
  },
  {
   "cell_type": "markdown",
   "metadata": {},
   "source": [
    "#### GRAFIK"
   ]
  },
  {
   "cell_type": "code",
   "execution_count": 19,
   "metadata": {},
   "outputs": [
    {
     "data": {
      "image/png": "[encoded data removed]",
      "text/plain": [
       "<Figure size 1000x600 with 1 Axes>"
      ]
     },
     "metadata": {},
     "output_type": "display_data"
    }
   ],
   "source": [
    "\n",
    "plt.figure(figsize=(10, 6))\n",
    "plt.plot(history.history['loss'])\n",
    "plt.plot(history.history['val_loss'])\n",
    "plt.title('Loss Model')\n",
    "plt.ylabel('Loss')\n",
    "plt.xlabel('Epoch')\n",
    "plt.legend(['train', 'val'], loc='upper left')\n",
    "plt.show()"
   ]
  },
  {
   "cell_type": "code",
   "execution_count": 20,
   "metadata": {},
   "outputs": [
    {
     "data": {
      "image/png": "[encoded data removed]",
      "text/plain": [
       "<Figure size 1000x600 with 1 Axes>"
      ]
     },
     "metadata": {},
     "output_type": "display_data"
    }
   ],
   "source": [
    "\n",
    "plt.figure(figsize=(10, 6))\n",
    "plt.plot(history.history['accuracy'])\n",
    "plt.plot(history.history['val_accuracy'])\n",
    "plt.title('Accuracy model')\n",
    "plt.ylabel('Accuracy')\n",
    "plt.xlabel('Epoch')\n",
    "plt.legend(['train', 'val'], loc='upper left')\n",
    "plt.show()"
   ]
  }
 ],
 "metadata": {
  "kernelspec": {
   "display_name": "Python 3",
   "language": "python",
   "name": "python3"
  },
  "language_info": {
   "codemirror_mode": {
    "name": "ipython",
    "version": 3
   },
   "file_extension": ".py",
   "mimetype": "text/x-python",
   "name": "python",
   "nbconvert_exporter": "python",
   "pygments_lexer": "ipython3",
   "version": "3.10.7"
  }
 },
 "nbformat": 4,
 "nbformat_minor": 2
}
